{
 "cells": [
  {
   "cell_type": "code",
   "execution_count": 2,
   "metadata": {},
   "outputs": [],
   "source": [
    "from safetensors.torch import load_file\n",
    "import torch\n",
    "\n",
    "lora_model_path = \"logging/vqa_nexus_zero_base/model.safetensors\"\n",
    "bin_model_path = \"logging/vqa_nexus_zero_base/pytorch_model.bin\"\n",
    "\n",
    "torch.save(load_file(lora_model_path), bin_model_path)"
   ]
  },
  {
   "cell_type": "code",
   "execution_count": 3,
   "metadata": {},
   "outputs": [],
   "source": [
    "import json\n",
    "\n",
    "# Load the normal JSON file\n",
    "with open('results/vqa_results_nexus_zero_base.json', 'r') as file:\n",
    "    data = json.load(file)\n",
    "\n",
    "# Convert to UTF-8 encoded JSON\n",
    "with open('results/vqa_results_nexus_zero_base_utf8.json', 'w', encoding='utf-8') as file:\n",
    "    json.dump(data, file, ensure_ascii=False, indent=4)"
   ]
  }
 ],
 "metadata": {
  "kernelspec": {
   "display_name": "Nexus",
   "language": "python",
   "name": "python3"
  },
  "language_info": {
   "codemirror_mode": {
    "name": "ipython",
    "version": 3
   },
   "file_extension": ".py",
   "mimetype": "text/x-python",
   "name": "python",
   "nbconvert_exporter": "python",
   "pygments_lexer": "ipython3",
   "version": "3.12.6"
  }
 },
 "nbformat": 4,
 "nbformat_minor": 2
}
